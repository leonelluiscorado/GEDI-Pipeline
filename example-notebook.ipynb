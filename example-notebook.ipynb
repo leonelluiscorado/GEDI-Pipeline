{
 "cells": [
  {
   "cell_type": "markdown",
   "metadata": {},
   "source": [
    "# Getting started with GEDIPipeline\n",
    "\n",
    "This notebook demonstrates how to use GEDIPipeline - the unified framework to download, subset, and clip Global Ecosystem Dynamics Investigation (GEDI) data over a specific Region of Interest (ROI).\n",
    "\n",
    "With this framework, you can streamline the process of acquiring and preparing GEDI data for analysis, enabling more efficient workflows for remote sensing and environmental research.\n",
    "With this example notebook, you'll learn:\n",
    "\n",
    "- How to define an ROI and configure the Pipeline.\n",
    "- Steps to find, download, and process GEDI granules.\n",
    "- How to use the Pipeline to automate the entire workflow.\n",
    "\n",
    "## Requirements\n",
    "\n",
    "1. EarthData Credentials: Ensure you have an active NASA EarthData account. You can create one [here](https://urs.earthdata.nasa.gov/).\n",
    "2. Python Environment: Install the required Python packages listed in the repository's requirements.txt.\n",
    "\n",
    "Make sure you have access to the repository by cloning it to your working machine or another working environment.\n",
    "\n",
    "Repository Link:\n",
    "\n",
    "https://github.com/leonelluiscorado/GEDI-Pipeline\n",
    "\n",
    "For more details, consult the repository's [README](https://github.com/leonelluiscorado/GEDI-Pipeline/blob/main/README.md).\n",
    "\n",
    "---"
   ]
  },
  {
   "cell_type": "markdown",
   "metadata": {},
   "source": [
    "### Setup"
   ]
  },
  {
   "cell_type": "code",
   "execution_count": 9,
   "metadata": {},
   "outputs": [],
   "source": [
    "# RUN THIS BEFORE GOING THROUGH NOTEBOOK\n",
    "\n",
    "import os\n",
    "\n",
    "example_path = \"./example_usage\" # Replace with desired notebook's output folder\n",
    "\n",
    "if not os.path.exists(example_path):\n",
    "    os.mkdir(example_path)"
   ]
  },
  {
   "cell_type": "markdown",
   "metadata": {},
   "source": [
    "---"
   ]
  },
  {
   "cell_type": "markdown",
   "metadata": {},
   "source": [
    "# Defining the example ROI and acquisition dates\n",
    "\n",
    "In this example, we will use a small ROI in Portugal to demonstrate the execution of GEDIPipeline. In this framework, the ROI is defined as a bounding box with coordinates that *must be* in WG84 EPSG:4326 and organized as follows in a list: \n",
    "\n",
    "`[UpperLeft_Latitude, UpperLeft_Longitude, LowerRight_Latitude, LowerRight_Longitude]`\n",
    "\n",
    "- Example `[40.35, -6.93, , 38.19, -6.93]`\n",
    "\n",
    "For the acquisition dates, we define two variables `date_start` and `date_end` which describe the desired start and end dates from which to download GEDI data.\n",
    "Each date is a *string* and must be in this format `\"YYYY.MM.DD\"`.\n",
    "\n",
    "- Example date `\"2024.11.28\"`"
   ]
  },
  {
   "cell_type": "code",
   "execution_count": 10,
   "metadata": {},
   "outputs": [],
   "source": [
    "# Define our ROI and data collection dates\n",
    "\n",
    "roi = [40.356011, -6.938200, 40.321162, -6.876083]  # Replace with your desired coordinates\n",
    "date_start = '2020.04.30' # Replace date_start and end with desired acquisition dates\n",
    "date_end = '2020.10.31'"
   ]
  },
  {
   "cell_type": "markdown",
   "metadata": {},
   "source": [
    "---"
   ]
  },
  {
   "cell_type": "markdown",
   "metadata": {},
   "source": [
    "# Using the Finder class\n",
    "\n",
    "The *Finder* searches NASA's data repository for all the available orbits that pass over the ROI returning a list of URLs containing the download links for the GEDI orbits.\n",
    "Before using the Finder, the user selects the desired GEDI product and version to download."
   ]
  },
  {
   "cell_type": "markdown",
   "metadata": {},
   "source": [
    "## Available GEDI Products\n",
    "\n",
    "- GEDI L1B Geolocated Waveform Data Global Footprint Level - GEDI01_B\n",
    "- GEDI L2A Elevation and Height Metrics Data Global Footprint Level - GEDI02_A\n",
    "- GEDI L2B Canopy Cover and Vertical Profile Metrics Data Global Footprint Level - GEDI02_B\n",
    "- GEDI L4A Footprint Level Aboveground Biomass Density - GEDI04_A\n",
    "\n",
    "For each GEDI data product, you can specify which version you want to download: version '001' or version '002'."
   ]
  },
  {
   "cell_type": "markdown",
   "metadata": {},
   "source": [
    "## Using the Finder class"
   ]
  },
  {
   "cell_type": "code",
   "execution_count": 7,
   "metadata": {},
   "outputs": [],
   "source": [
    "# Import class\n",
    "from pipeline.finder import GEDIFinder"
   ]
  },
  {
   "cell_type": "code",
   "execution_count": 8,
   "metadata": {},
   "outputs": [
    {
     "name": "stdout",
     "output_type": "stream",
     "text": [
      "Help on class GEDIFinder in module pipeline.finder:\n",
      "\n",
      "class GEDIFinder(builtins.object)\n",
      " |  GEDIFinder(product='GEDI02_A', version='002', date_start='', date_end='', roi=None)\n",
      " |\n",
      " |  The Finder :class: exports all the available URLs to download GEDI Data that passes over a given ROI and timestamp.\n",
      " |\n",
      " |  Args:\n",
      " |      product: GEDI Product (without version). Products available are {'GEDI01_B'; 'GEDI02_A'; 'GEDI02_B'; 'GEDI04_A'}\n",
      " |      version: Version of the desired GEDI Product. There are only two available versions 001 and 002\n",
      " |      date_start: Starting datetime to search for GEDI Data. Must be in format YEAR.month.day (e.g 2020.04.01)\n",
      " |      date_end: End datetime to search for GEDI Data. Must be in format YEAR.month.day (e.g 2020.12.31)\n",
      " |      roi: Region of Interest to search for granules. Coordinates must be in WG84 EPSG:4326 and organized as follows: [UL_Lat, UL_Lon, LR_Lat, LR_Lon]\n",
      " |\n",
      " |  Example usage:\n",
      " |      finder = GEDIFinder(product='GEDI04_A', version='002', date_start='2021.01.01', date_end='2021.12.31', roi=[])\n",
      " |      granules = finder.find(save_file=False)\n",
      " |      granules\n",
      " |      >>> [\"URL1\", \"URL2\", \"URL3\", ...]\n",
      " |\n",
      " |  Methods defined here:\n",
      " |\n",
      " |  __init__(self, product='GEDI02_A', version='002', date_start='', date_end='', roi=None)\n",
      " |      Initialize self.  See help(type(self)) for accurate signature.\n",
      " |\n",
      " |  find(self, save_file=True, output_filepath=None) -> list\n",
      " |      Executes the finding algorithm.\n",
      " |      Args:\n",
      " |          save_file: If true, saves all the download URLs to a file.\n",
      " |          output_filepath: Filepath to URLs file.\n",
      " |\n",
      " |      Returns:\n",
      " |          a list with all the date filtered granule links for download\n",
      " |\n",
      " |  ----------------------------------------------------------------------\n",
      " |  Data descriptors defined here:\n",
      " |\n",
      " |  __dict__\n",
      " |      dictionary for instance variables\n",
      " |\n",
      " |  __weakref__\n",
      " |      list of weak references to the object\n",
      "\n"
     ]
    }
   ],
   "source": [
    "help(GEDIFinder) # Describe arguments and example usage"
   ]
  },
  {
   "cell_type": "code",
   "execution_count": 9,
   "metadata": {},
   "outputs": [],
   "source": [
    "# Create Finder instance\n",
    "\n",
    "finder = GEDIFinder(\n",
    "            product = 'GEDI02_A',\n",
    "            version = '002',\n",
    "            date_start = date_start,\n",
    "            date_end = date_end,\n",
    "            roi = roi\n",
    "        )"
   ]
  },
  {
   "cell_type": "code",
   "execution_count": 10,
   "metadata": {},
   "outputs": [
    {
     "name": "stdout",
     "output_type": "stream",
     "text": [
      "[Finder] Found 31 granules over bbox [-6.9382 40.321162 -6.876083 40.356011]\n",
      "[Finder] Between dates (2020-04-30 00:00:00) and (2020-10-31 00:00:00) exist 3 granules over bbox [-6.9382 40.321162 -6.876083 40.356011]\n",
      "[Finder] Estimated download size for select granules : 4.87 GB\n",
      "[Finder] Saved links to file ./example_usage/GEDI02_A_GranuleList_20241118123155.txt\n"
     ]
    }
   ],
   "source": [
    "# Return all available orbits\n",
    "\n",
    "orbits = finder.find(save_file = True, output_filepath = example_path)"
   ]
  },
  {
   "cell_type": "code",
   "execution_count": 11,
   "metadata": {},
   "outputs": [
    {
     "data": {
      "text/plain": [
       "[('https://data.lpdaac.earthdatacloud.nasa.gov/lp-prod-protected/GEDI02_A.002/GEDI02_A_2020203182648_O09106_02_T00028_02_003_01_V002/GEDI02_A_2020203182648_O09106_02_T00028_02_003_01_V002.h5',\n",
       "  '1681.25'),\n",
       " ('https://data.lpdaac.earthdatacloud.nasa.gov/lp-prod-protected/GEDI02_A.002/GEDI02_A_2020278125206_O10265_02_T08566_02_003_02_V002/GEDI02_A_2020278125206_O10265_02_T08566_02_003_02_V002.h5',\n",
       "  '1592.68'),\n",
       " ('https://data.lpdaac.earthdatacloud.nasa.gov/lp-prod-protected/GEDI02_A.002/GEDI02_A_2020282111915_O10326_02_T07143_02_003_02_V002/GEDI02_A_2020282111915_O10326_02_T07143_02_003_02_V002.h5',\n",
       "  '1600.65')]"
      ]
     },
     "execution_count": 11,
     "metadata": {},
     "output_type": "execute_result"
    }
   ],
   "source": [
    "orbits"
   ]
  },
  {
   "cell_type": "markdown",
   "metadata": {},
   "source": [
    "Each orbit consists of a tuple with (Download URL, Filesize). This filesize variable is valuable for file checking before downloading (e.g. if file does not exist entirely, download it again).\n",
    "To access the URL, we simple obtain the first variable of the tuple like so: `granule[0]`."
   ]
  },
  {
   "cell_type": "code",
   "execution_count": 12,
   "metadata": {},
   "outputs": [
    {
     "data": {
      "text/plain": [
       "'https://data.lpdaac.earthdatacloud.nasa.gov/lp-prod-protected/GEDI02_A.002/GEDI02_A_2020278125206_O10265_02_T08566_02_003_02_V002/GEDI02_A_2020278125206_O10265_02_T08566_02_003_02_V002.h5'"
      ]
     },
     "execution_count": 12,
     "metadata": {},
     "output_type": "execute_result"
    }
   ],
   "source": [
    "# Obtain second URL\n",
    "\n",
    "orbits[1][0]"
   ]
  },
  {
   "cell_type": "markdown",
   "metadata": {},
   "source": [
    "After obtaining the intersecting orbits on the desired ROI, we can download these GEDI files with the Downloader class.\n",
    "\n",
    "---"
   ]
  },
  {
   "cell_type": "markdown",
   "metadata": {},
   "source": [
    "# Using the Downloader class"
   ]
  },
  {
   "cell_type": "markdown",
   "metadata": {},
   "source": [
    "Before downloading, the framework will ask for your EarthData credentials. After logging in successfully, it will save your credentials in your user's `.netrc` file if the `persist_login` flag is True (by default is set to False)."
   ]
  },
  {
   "cell_type": "code",
   "execution_count": 13,
   "metadata": {},
   "outputs": [],
   "source": [
    "# Import downloader class\n",
    "\n",
    "from pipeline.downloader import GEDIDownloader"
   ]
  },
  {
   "cell_type": "code",
   "execution_count": 14,
   "metadata": {},
   "outputs": [
    {
     "name": "stdout",
     "output_type": "stream",
     "text": [
      "Help on class GEDIDownloader in module pipeline.downloader:\n",
      "\n",
      "class GEDIDownloader(builtins.object)\n",
      " |  GEDIDownloader(persist_login=False, save_path=None)\n",
      " |\n",
      " |  The GEDIDownloader :class: implements a downloading mechanism for a given NASA Repository link, while keeping\n",
      " |  an authorization session alive.\n",
      " |\n",
      " |  It implements a file chunk downloading mechanism and a file checking step to skip a download or not.\n",
      " |\n",
      " |  Args:\n",
      " |          persist_login: Choice to persist login and save to a .netrc file. See Earthdata Access API for more info:\n",
      " |                                     https://earthaccess.readthedocs.io/en/latest/howto/authenticate/\n",
      " |          save_path: Absolute path to save the downloaded files. If None, saves to current working directory (script).\n",
      " |\n",
      " |  Methods defined here:\n",
      " |\n",
      " |  __init__(self, persist_login=False, save_path=None)\n",
      " |      Initialize self.  See help(type(self)) for accurate signature.\n",
      " |\n",
      " |  download_files(self, files_url)\n",
      " |      This function downloads a list of files with given URLs. Must keep a Login Session alive.\n",
      " |      Args:\n",
      " |              files_url: A list containing GEDI files URLs from EarthData Repository\n",
      " |\n",
      " |  download_granule(self, url, chunk_size=128)\n",
      " |      This function downloads the file from a given URL. Must keep a Login Session alive.\n",
      " |      Args:\n",
      " |              url: NASA Repo URL to download the file.\n",
      " |              chunk_size: Specify chunk size for download in kilobytes. Defaults to 128 KB.\n",
      " |\n",
      " |  ----------------------------------------------------------------------\n",
      " |  Data descriptors defined here:\n",
      " |\n",
      " |  __dict__\n",
      " |      dictionary for instance variables\n",
      " |\n",
      " |  __weakref__\n",
      " |      list of weak references to the object\n",
      "\n"
     ]
    }
   ],
   "source": [
    "help(GEDIDownloader)"
   ]
  },
  {
   "cell_type": "markdown",
   "metadata": {},
   "source": [
    "For the Downloader module, we simply create an instance and call the `download_granule` for a single URL or `download_files` for a list of URLs."
   ]
  },
  {
   "cell_type": "code",
   "execution_count": 15,
   "metadata": {},
   "outputs": [
    {
     "name": "stdout",
     "output_type": "stream",
     "text": [
      "Logging in EarthData...\n"
     ]
    }
   ],
   "source": [
    "# Create downloader instance\n",
    "\n",
    "downloader = GEDIDownloader(persist_login = False, save_path = example_path)"
   ]
  },
  {
   "cell_type": "markdown",
   "metadata": {},
   "source": [
    "Depending on the GEDI Product, each downloaded HDF5 file will occupy ~1-2GB. Be sure that you have enough disk space to download."
   ]
  },
  {
   "cell_type": "code",
   "execution_count": 16,
   "metadata": {},
   "outputs": [
    {
     "name": "stdout",
     "output_type": "stream",
     "text": [
      "[Downloader] Downloading granule and saving \"./example_usage/GEDI02_A_2020203182648_O09106_02_T00028_02_003_01_V002.h5\"...\n"
     ]
    },
    {
     "name": "stderr",
     "output_type": "stream",
     "text": [
      "100%|████████████████████████████████████████████████████████████████████████████████████████████████████████████████████████████████████████| 1762915809/1762915809 [01:09<00:00, 25510863.15it/s]\n"
     ]
    },
    {
     "name": "stdout",
     "output_type": "stream",
     "text": [
      "[Downloader] Downloading granule and saving \"./example_usage/GEDI02_A_2020278125206_O10265_02_T08566_02_003_02_V002.h5\"...\n"
     ]
    },
    {
     "name": "stderr",
     "output_type": "stream",
     "text": [
      "100%|████████████████████████████████████████████████████████████████████████████████████████████████████████████████████████████████████████| 1670050714/1670050714 [01:03<00:00, 26374529.12it/s]\n"
     ]
    },
    {
     "name": "stdout",
     "output_type": "stream",
     "text": [
      "[Downloader] Downloading granule and saving \"./example_usage/GEDI02_A_2020282111915_O10326_02_T07143_02_003_02_V002.h5\"...\n"
     ]
    },
    {
     "name": "stderr",
     "output_type": "stream",
     "text": [
      "100%|████████████████████████████████████████████████████████████████████████████████████████████████████████████████████████████████████████| 1678401705/1678401705 [01:03<00:00, 26266909.98it/s]\n"
     ]
    },
    {
     "data": {
      "text/plain": [
       "[('https://data.lpdaac.earthdatacloud.nasa.gov/lp-prod-protected/GEDI02_A.002/GEDI02_A_2020203182648_O09106_02_T00028_02_003_01_V002/GEDI02_A_2020203182648_O09106_02_T00028_02_003_01_V002.h5',\n",
       "  '1681.25'),\n",
       " ('https://data.lpdaac.earthdatacloud.nasa.gov/lp-prod-protected/GEDI02_A.002/GEDI02_A_2020278125206_O10265_02_T08566_02_003_02_V002/GEDI02_A_2020278125206_O10265_02_T08566_02_003_02_V002.h5',\n",
       "  '1592.68'),\n",
       " ('https://data.lpdaac.earthdatacloud.nasa.gov/lp-prod-protected/GEDI02_A.002/GEDI02_A_2020282111915_O10326_02_T07143_02_003_02_V002/GEDI02_A_2020282111915_O10326_02_T07143_02_003_02_V002.h5',\n",
       "  '1600.65')]"
      ]
     },
     "execution_count": 16,
     "metadata": {},
     "output_type": "execute_result"
    }
   ],
   "source": [
    "# Download all of the intersecting files\n",
    "\n",
    "downloader.download_files(orbits)"
   ]
  },
  {
   "cell_type": "markdown",
   "metadata": {},
   "source": [
    "Your .H5 files are now saved in your specified output directory, we can do a quick check:"
   ]
  },
  {
   "cell_type": "code",
   "execution_count": 11,
   "metadata": {},
   "outputs": [
    {
     "data": {
      "text/plain": [
       "['GEDI02_A_2020278125206_O10265_02_T08566_02_003_02_V002.h5',\n",
       " 'GEDI02_A_2020278125206_O10265_02_T08566_02_003_02_V002.gpkg',\n",
       " 'GEDI02_A_2020203182648_O09106_02_T00028_02_003_01_V002.gpkg',\n",
       " 'GEDI02_A_2020203182648_O09106_02_T00028_02_003_01_V002.h5',\n",
       " 'GEDI02_A_GranuleList_20241118115831.txt',\n",
       " 'GEDI02_A_GranuleList_20241118130908.txt',\n",
       " 'GEDI02_A_GranuleList_20241118123155.txt',\n",
       " 'GEDI02_A_GranuleList_20241118123005.txt',\n",
       " 'GEDI02_A_2020282111915_O10326_02_T07143_02_003_02_V002.h5',\n",
       " 'GEDI02_A_2020282111915_O10326_02_T07143_02_003_02_V002.gpkg']"
      ]
     },
     "execution_count": 11,
     "metadata": {},
     "output_type": "execute_result"
    }
   ],
   "source": [
    "os.listdir(example_path)"
   ]
  },
  {
   "cell_type": "markdown",
   "metadata": {},
   "source": [
    "The Downloader downloads each (entire) granule to a specified directory, as subsetting the granule before downloading is currently unavailable through the APIs provided. The listed .H5 files are not clipped to our ROI and use all of the available data product variables. To solve this, we use the following Subsetter class.\n",
    "\n",
    "---"
   ]
  },
  {
   "cell_type": "markdown",
   "metadata": {},
   "source": [
    "# Using the Subsetter class\n",
    "\n",
    "This class clips to the study area and selects all the available Science Dataset (SDS) data product variables to burn for each footprint, and outputs the subsetted orbit, which was previously downloaded. This class accepts any downloaded GEDI HDF5 from LPDAAC. Let's start by creating a Subsetter instance."
   ]
  },
  {
   "cell_type": "code",
   "execution_count": 17,
   "metadata": {},
   "outputs": [],
   "source": [
    "# Import class\n",
    "from pipeline.subsetter import GEDISubsetter"
   ]
  },
  {
   "cell_type": "code",
   "execution_count": 18,
   "metadata": {},
   "outputs": [
    {
     "name": "stdout",
     "output_type": "stream",
     "text": [
      "Help on class GEDISubsetter in module pipeline.subsetter:\n",
      "\n",
      "class GEDISubsetter(builtins.object)\n",
      " |  GEDISubsetter(roi, product, out_dir, out_format=None, sds=None, beams=None)\n",
      " |\n",
      " |  The GEDISubsetter :class: clips the granule to the specified ROI and selects all the desired variables for each footprint\n",
      " |  Args:\n",
      " |      roi: Region of Interest to search for granules. Coordinates must be in WG84 EPSG:4326 and organized as follows: [UL_Lat, UL_Lon, LR_Lat, LR_Lon]\n",
      " |           Rectangle polygons ONLY. TODO: Take SHP files as argument and MultiPolygon\n",
      " |      sds: Science Dataset variables used to extract from the granule. Check the product Data Dictionary for more info.\n",
      " |           If the variable is inside a group except BEAMXXXX/, it must be specified ( e.g '/geolocation/lat_lowestmode' )\n",
      " |           If None, extracts the default variables; else it appends to default variables.\n",
      " |      beams: Keeps footprints of select BEAMS to extract from the granule. If none, selects all the available GEDI Beams.\n",
      " |             Available BEAMS: ['BEAM0000', 'BEAM0001', 'BEAM0010', 'BEAM0011', 'BEAM0101', 'BEAM0110', 'BEAM1000', 'BEAM1011']\n",
      " |      product: GEDI Product (without version). Products available are {'GEDI01_B'; 'GEDI02_A'; 'GEDI02_B'; 'GEDI04_A'}\n",
      " |      out_dir: Filepath to save the subsetted granule in the 'out_format' file.\n",
      " |      out_format: File format for the subsetted granule.\n",
      " |                  The subset function outputs the final clipped and subsetted granule to a GeoPKG file, by default.\n",
      " |                  TODO: The user can also select the following options: {GEOJSON, SHP}\n",
      " |\n",
      " |  Example:\n",
      " |      subsetter = GEDISubsetter(roi=[.., .., .., ..], product='GEDI02_A', out_dir='some_path')\n",
      " |      subset_df = subsetter.subset('[filename].h5')  # Outputs a GeoPandas dataframe\n",
      " |      >>> ...\n",
      " |      >>>  [Subsetter] [filename].gpkg saved at: [out_dir]+filename ...\n",
      " |      subset_df.info()\n",
      " |      >>> ...\n",
      " |\n",
      " |  Methods defined here:\n",
      " |\n",
      " |  __init__(self, roi, product, out_dir, out_format=None, sds=None, beams=None)\n",
      " |      Initialize self.  See help(type(self)) for accurate signature.\n",
      " |\n",
      " |  subset(self, granule)\n",
      " |      Subsets an entire downloaded granule file and exports to GPKG (or other format) with the same filename\n",
      " |\n",
      " |      Args:\n",
      " |          granule: filepath to granule file, already downloaded.\n",
      " |\n",
      " |      Returns:\n",
      " |          Geopandas dataframe with all the intersecting footprints at ROI and select SDS variables\n",
      " |          Also exports this dataframe to a GPKG file with the same name as the granule.\n",
      " |          Returns None / Does not save if all the footprints in the granule do not intersect with ROI\n",
      " |          or ScienceDataset is empty / does not align with product.\n",
      " |\n",
      " |  ----------------------------------------------------------------------\n",
      " |  Data descriptors defined here:\n",
      " |\n",
      " |  __dict__\n",
      " |      dictionary for instance variables\n",
      " |\n",
      " |  __weakref__\n",
      " |      list of weak references to the object\n",
      "\n"
     ]
    }
   ],
   "source": [
    "help(GEDISubsetter)"
   ]
  },
  {
   "cell_type": "markdown",
   "metadata": {},
   "source": [
    "The Subsetter allows for a high level of customization (e.g. select BEAMS and variables from the specified data product).\n",
    "Before selecting SDS variables, check the Data Product Dictionary for the variable names. After this, if the variable is inside a group or subgroup except `BEAMXXXX/`, its parent group must be specified, for example `/geolocation/lat_lowestmode`. The SDS argument defaults to the lists in `subsetter.py`, otherwise, it appends to the default lists.\n",
    "\n",
    "The default lists are:\n",
    "\n",
    "```python\n",
    "# Default layers to be subset and exported, see README for information on how to add additional layers\n",
    "l1b_subset = ['/geolocation/latitude_bin0', '/geolocation/longitude_bin0', '/channel', '/shot_number', '/rx_sample_start_index',\n",
    "             '/rxwaveform','/rx_sample_count', '/stale_return_flag', '/tx_sample_count', '/txwaveform',\n",
    "             '/geolocation/degrade', '/geolocation/delta_time', '/geolocation/digital_elevation_model',\n",
    "              '/geolocation/solar_elevation',  '/geolocation/local_beam_elevation',  '/noise_mean_corrected',\n",
    "             '/geolocation/elevation_bin0', '/geolocation/elevation_lastbin', '/geolocation/surface_type', '/geolocation/digital_elevation_model_srtm' '/geolocation/degrade']\n",
    "\n",
    "l2a_subset = ['/lat_lowestmode', '/lon_lowestmode', '/channel', '/shot_number', '/degrade_flag', '/delta_time', \n",
    "             '/digital_elevation_model', '/elev_lowestmode', '/quality_flag', '/rh', '/sensitivity', '/rx_cumulative', '/digital_elevation_model_srtm', \n",
    "             '/elevation_bias_flag', '/surface_flag',  '/num_detectedmodes',  '/selected_algorithm',  '/solar_elevation']\n",
    "\n",
    "\n",
    "l2b_subset = ['/geolocation/lat_lowestmode', '/geolocation/lon_lowestmode', '/channel', '/geolocation/shot_number',\n",
    "             '/cover', '/cover_z', '/fhd_normal', '/pai', '/pai_z',  '/rhov',  '/rhog',\n",
    "             '/pavd_z', '/l2a_quality_flag', '/l2b_quality_flag', '/rh100', '/sensitivity',  \n",
    "             '/stale_return_flag', '/surface_flag', '/geolocation/degrade_flag',  '/geolocation/solar_elevation',\n",
    "             '/geolocation/delta_time', '/geolocation/digital_elevation_model', '/geolocation/elev_lowestmode', '/pgap_theta']\n",
    "\n",
    "l4a_subset = [] # TODO: select relevant L4A product variables"
   ]
  },
  {
   "cell_type": "markdown",
   "metadata": {},
   "source": [
    "The user can also select desired BEAMs in a list like so: `['BEAM0000', 'BEAM0001']`. If the user does not specify BEAMS, it defaults to all available beams:\n",
    "\n",
    "```python\n",
    "# Default BEAM Subset\n",
    "beam_subset = ['BEAM0000', 'BEAM0001', 'BEAM0010', 'BEAM0011', 'BEAM0101', 'BEAM0110', 'BEAM1000', 'BEAM1011']"
   ]
  },
  {
   "cell_type": "markdown",
   "metadata": {},
   "source": [
    "### For now, we'll use the default BEAMS and SDS variables for the L2A data product\n",
    "\n",
    "Let's subset the previously downloaded files:"
   ]
  },
  {
   "cell_type": "code",
   "execution_count": 19,
   "metadata": {},
   "outputs": [],
   "source": [
    "subsetter = GEDISubsetter(\n",
    "                roi = roi,              # Desired ROI to clip\n",
    "                product = 'GEDI02_A',   # Desired data product\n",
    "                out_dir = example_path, # Output file directory to save the .GPKG files\n",
    "                sds = None,             # SDS Variables to append to default\n",
    "                beams = None            # BEAMS to select, None selects all the available BEAMS\n",
    "            )"
   ]
  },
  {
   "cell_type": "code",
   "execution_count": 12,
   "metadata": {},
   "outputs": [
    {
     "data": {
      "text/plain": [
       "['./example_usage/GEDI02_A_2020278125206_O10265_02_T08566_02_003_02_V002.h5',\n",
       " './example_usage/GEDI02_A_2020203182648_O09106_02_T00028_02_003_01_V002.h5',\n",
       " './example_usage/GEDI02_A_2020282111915_O10326_02_T07143_02_003_02_V002.h5']"
      ]
     },
     "execution_count": 12,
     "metadata": {},
     "output_type": "execute_result"
    }
   ],
   "source": [
    "# Select paths of all the downloaded .H5 files\n",
    "\n",
    "files = [os.path.join(example_path, f) for f in os.listdir(example_path) if '.h5' in f] \n",
    "\n",
    "files"
   ]
  },
  {
   "cell_type": "code",
   "execution_count": 25,
   "metadata": {},
   "outputs": [
    {
     "name": "stdout",
     "output_type": "stream",
     "text": [
      "[Subsetter] Processing file: ./example_usage/GEDI02_A_2020278125206_O10265_02_T08566_02_003_02_V002.h5\n",
      "[Subsetter] Selecting BEAMS and clipping to ROI ...\n",
      "[Subsetter] Intersecting shots found. Selecting variables from subset ...\n",
      "[Subsetter] No intersecting shots found for BEAM0010 for <HDF5 file \"GEDI02_A_2020278125206_O10265_02_T08566_02_003_02_V002.h5\" (mode r)>.\n",
      "[Subsetter] No intersecting shots found for BEAM0011 for <HDF5 file \"GEDI02_A_2020278125206_O10265_02_T08566_02_003_02_V002.h5\" (mode r)>.\n",
      "[Subsetter] No intersecting shots found for BEAM0101 for <HDF5 file \"GEDI02_A_2020278125206_O10265_02_T08566_02_003_02_V002.h5\" (mode r)>.\n",
      "[Subsetter] No intersecting shots found for BEAM0110 for <HDF5 file \"GEDI02_A_2020278125206_O10265_02_T08566_02_003_02_V002.h5\" (mode r)>.\n",
      "[Subsetter] No intersecting shots found for BEAM1000 for <HDF5 file \"GEDI02_A_2020278125206_O10265_02_T08566_02_003_02_V002.h5\" (mode r)>.\n",
      "[Subsetter] No intersecting shots found for BEAM1011 for <HDF5 file \"GEDI02_A_2020278125206_O10265_02_T08566_02_003_02_V002.h5\" (mode r)>.\n",
      "[Subsetter] ./example_usage/GEDI02_A_2020278125206_O10265_02_T08566_02_003_02_V002.gpkg\n",
      "[Subsetter] ./example_usage/GEDI02_A_2020278125206_O10265_02_T08566_02_003_02_V002.gpkg saved at: ./example_usage\n",
      "[Subsetter] Processing file: ./example_usage/GEDI02_A_2020203182648_O09106_02_T00028_02_003_01_V002.h5\n",
      "[Subsetter] Selecting BEAMS and clipping to ROI ...\n",
      "[Subsetter] Intersecting shots found. Selecting variables from subset ...\n",
      "[Subsetter] No intersecting shots found for BEAM0000 for <HDF5 file \"GEDI02_A_2020203182648_O09106_02_T00028_02_003_01_V002.h5\" (mode r)>.\n",
      "[Subsetter] ./example_usage/GEDI02_A_2020203182648_O09106_02_T00028_02_003_01_V002.gpkg\n",
      "[Subsetter] ./example_usage/GEDI02_A_2020203182648_O09106_02_T00028_02_003_01_V002.gpkg saved at: ./example_usage\n",
      "[Subsetter] Processing file: ./example_usage/GEDI02_A_2020282111915_O10326_02_T07143_02_003_02_V002.h5\n",
      "[Subsetter] Selecting BEAMS and clipping to ROI ...\n",
      "[Subsetter] Intersecting shots found. Selecting variables from subset ...\n",
      "[Subsetter] No intersecting shots found for BEAM0000 for <HDF5 file \"GEDI02_A_2020282111915_O10326_02_T07143_02_003_02_V002.h5\" (mode r)>.\n",
      "[Subsetter] No intersecting shots found for BEAM0001 for <HDF5 file \"GEDI02_A_2020282111915_O10326_02_T07143_02_003_02_V002.h5\" (mode r)>.\n",
      "[Subsetter] No intersecting shots found for BEAM0010 for <HDF5 file \"GEDI02_A_2020282111915_O10326_02_T07143_02_003_02_V002.h5\" (mode r)>.\n",
      "[Subsetter] No intersecting shots found for BEAM0011 for <HDF5 file \"GEDI02_A_2020282111915_O10326_02_T07143_02_003_02_V002.h5\" (mode r)>.\n",
      "[Subsetter] ./example_usage/GEDI02_A_2020282111915_O10326_02_T07143_02_003_02_V002.gpkg\n",
      "[Subsetter] ./example_usage/GEDI02_A_2020282111915_O10326_02_T07143_02_003_02_V002.gpkg saved at: ./example_usage\n"
     ]
    }
   ],
   "source": [
    "dfs = [] # Dataframes List\n",
    "\n",
    "# Subset the downloaded granules\n",
    "for file in files:\n",
    "    file_df = subsetter.subset(file) # Subset file\n",
    "    dfs.append(file_df) # Save to all GeoDataFrames"
   ]
  },
  {
   "cell_type": "markdown",
   "metadata": {},
   "source": [
    "After subsetting and outputting the .GPKG files, the subsetter function returns the datasets in GeoDataFrame format. We can process them in a notebook for later use. Let's check them out:"
   ]
  },
  {
   "cell_type": "code",
   "execution_count": 26,
   "metadata": {},
   "outputs": [
    {
     "data": {
      "text/html": [
       "<div>\n",
       "<style scoped>\n",
       "    .dataframe tbody tr th:only-of-type {\n",
       "        vertical-align: middle;\n",
       "    }\n",
       "\n",
       "    .dataframe tbody tr th {\n",
       "        vertical-align: top;\n",
       "    }\n",
       "\n",
       "    .dataframe thead th {\n",
       "        text-align: right;\n",
       "    }\n",
       "</style>\n",
       "<table border=\"1\" class=\"dataframe\">\n",
       "  <thead>\n",
       "    <tr style=\"text-align: right;\">\n",
       "      <th></th>\n",
       "      <th>BEAM</th>\n",
       "      <th>shot_number</th>\n",
       "      <th>Latitude</th>\n",
       "      <th>Longitude</th>\n",
       "      <th>index</th>\n",
       "      <th>degrade_flag</th>\n",
       "      <th>delta_time</th>\n",
       "      <th>digital_elevation_model</th>\n",
       "      <th>digital_elevation_model_srtm</th>\n",
       "      <th>elev_lowestmode</th>\n",
       "      <th>...</th>\n",
       "      <th>rx_processing_a6_rx_cumulative_97</th>\n",
       "      <th>rx_processing_a6_rx_cumulative_98</th>\n",
       "      <th>rx_processing_a6_rx_cumulative_99</th>\n",
       "      <th>rx_processing_a6_rx_cumulative_100</th>\n",
       "      <th>selected_algorithm</th>\n",
       "      <th>sensitivity</th>\n",
       "      <th>solar_elevation</th>\n",
       "      <th>surface_flag</th>\n",
       "      <th>geometry</th>\n",
       "      <th>date</th>\n",
       "    </tr>\n",
       "  </thead>\n",
       "  <tbody>\n",
       "    <tr>\n",
       "      <th>0</th>\n",
       "      <td>BEAM0101</td>\n",
       "      <td>103260500200154054</td>\n",
       "      <td>40.350226</td>\n",
       "      <td>-6.937722</td>\n",
       "      <td>40629</td>\n",
       "      <td>0</td>\n",
       "      <td>8.739338e+07</td>\n",
       "      <td>919.755676</td>\n",
       "      <td>914.721436</td>\n",
       "      <td>917.065430</td>\n",
       "      <td>...</td>\n",
       "      <td>309.00</td>\n",
       "      <td>306.00</td>\n",
       "      <td>302.50</td>\n",
       "      <td>295.75</td>\n",
       "      <td>2</td>\n",
       "      <td>0.984625</td>\n",
       "      <td>43.149551</td>\n",
       "      <td>1</td>\n",
       "      <td>POINT (-6.93772 40.35023)</td>\n",
       "      <td>2020/10/08</td>\n",
       "    </tr>\n",
       "    <tr>\n",
       "      <th>1</th>\n",
       "      <td>BEAM0101</td>\n",
       "      <td>103260500200154055</td>\n",
       "      <td>40.350536</td>\n",
       "      <td>-6.937191</td>\n",
       "      <td>40630</td>\n",
       "      <td>0</td>\n",
       "      <td>8.739338e+07</td>\n",
       "      <td>917.794312</td>\n",
       "      <td>922.721619</td>\n",
       "      <td>927.580261</td>\n",
       "      <td>...</td>\n",
       "      <td>307.25</td>\n",
       "      <td>304.00</td>\n",
       "      <td>299.50</td>\n",
       "      <td>292.00</td>\n",
       "      <td>2</td>\n",
       "      <td>0.983251</td>\n",
       "      <td>43.149296</td>\n",
       "      <td>1</td>\n",
       "      <td>POINT (-6.93719 40.35054)</td>\n",
       "      <td>2020/10/08</td>\n",
       "    </tr>\n",
       "    <tr>\n",
       "      <th>2</th>\n",
       "      <td>BEAM0101</td>\n",
       "      <td>103260500200154056</td>\n",
       "      <td>40.350847</td>\n",
       "      <td>-6.936658</td>\n",
       "      <td>40631</td>\n",
       "      <td>0</td>\n",
       "      <td>8.739338e+07</td>\n",
       "      <td>932.977905</td>\n",
       "      <td>932.721802</td>\n",
       "      <td>935.411133</td>\n",
       "      <td>...</td>\n",
       "      <td>308.00</td>\n",
       "      <td>305.25</td>\n",
       "      <td>301.75</td>\n",
       "      <td>295.00</td>\n",
       "      <td>1</td>\n",
       "      <td>0.959319</td>\n",
       "      <td>43.149036</td>\n",
       "      <td>1</td>\n",
       "      <td>POINT (-6.93666 40.35085)</td>\n",
       "      <td>2020/10/08</td>\n",
       "    </tr>\n",
       "    <tr>\n",
       "      <th>3</th>\n",
       "      <td>BEAM0101</td>\n",
       "      <td>103260500200154057</td>\n",
       "      <td>40.351159</td>\n",
       "      <td>-6.936124</td>\n",
       "      <td>40632</td>\n",
       "      <td>0</td>\n",
       "      <td>8.739338e+07</td>\n",
       "      <td>942.346130</td>\n",
       "      <td>937.721985</td>\n",
       "      <td>939.019165</td>\n",
       "      <td>...</td>\n",
       "      <td>308.50</td>\n",
       "      <td>304.75</td>\n",
       "      <td>300.50</td>\n",
       "      <td>293.00</td>\n",
       "      <td>1</td>\n",
       "      <td>0.960924</td>\n",
       "      <td>43.148777</td>\n",
       "      <td>1</td>\n",
       "      <td>POINT (-6.93612 40.35116)</td>\n",
       "      <td>2020/10/08</td>\n",
       "    </tr>\n",
       "    <tr>\n",
       "      <th>4</th>\n",
       "      <td>BEAM0101</td>\n",
       "      <td>103260500200154058</td>\n",
       "      <td>40.351473</td>\n",
       "      <td>-6.935587</td>\n",
       "      <td>40633</td>\n",
       "      <td>0</td>\n",
       "      <td>8.739338e+07</td>\n",
       "      <td>928.473145</td>\n",
       "      <td>934.722168</td>\n",
       "      <td>929.192932</td>\n",
       "      <td>...</td>\n",
       "      <td>309.25</td>\n",
       "      <td>306.75</td>\n",
       "      <td>303.25</td>\n",
       "      <td>294.50</td>\n",
       "      <td>2</td>\n",
       "      <td>0.988238</td>\n",
       "      <td>43.148518</td>\n",
       "      <td>1</td>\n",
       "      <td>POINT (-6.93559 40.35147)</td>\n",
       "      <td>2020/10/08</td>\n",
       "    </tr>\n",
       "  </tbody>\n",
       "</table>\n",
       "<p>5 rows × 727 columns</p>\n",
       "</div>"
      ],
      "text/plain": [
       "       BEAM         shot_number   Latitude  Longitude  index  degrade_flag  \\\n",
       "0  BEAM0101  103260500200154054  40.350226  -6.937722  40629             0   \n",
       "1  BEAM0101  103260500200154055  40.350536  -6.937191  40630             0   \n",
       "2  BEAM0101  103260500200154056  40.350847  -6.936658  40631             0   \n",
       "3  BEAM0101  103260500200154057  40.351159  -6.936124  40632             0   \n",
       "4  BEAM0101  103260500200154058  40.351473  -6.935587  40633             0   \n",
       "\n",
       "     delta_time  digital_elevation_model  digital_elevation_model_srtm  \\\n",
       "0  8.739338e+07               919.755676                    914.721436   \n",
       "1  8.739338e+07               917.794312                    922.721619   \n",
       "2  8.739338e+07               932.977905                    932.721802   \n",
       "3  8.739338e+07               942.346130                    937.721985   \n",
       "4  8.739338e+07               928.473145                    934.722168   \n",
       "\n",
       "   elev_lowestmode  ...  rx_processing_a6_rx_cumulative_97  \\\n",
       "0       917.065430  ...                             309.00   \n",
       "1       927.580261  ...                             307.25   \n",
       "2       935.411133  ...                             308.00   \n",
       "3       939.019165  ...                             308.50   \n",
       "4       929.192932  ...                             309.25   \n",
       "\n",
       "   rx_processing_a6_rx_cumulative_98  rx_processing_a6_rx_cumulative_99  \\\n",
       "0                             306.00                             302.50   \n",
       "1                             304.00                             299.50   \n",
       "2                             305.25                             301.75   \n",
       "3                             304.75                             300.50   \n",
       "4                             306.75                             303.25   \n",
       "\n",
       "   rx_processing_a6_rx_cumulative_100  selected_algorithm  sensitivity  \\\n",
       "0                              295.75                   2     0.984625   \n",
       "1                              292.00                   2     0.983251   \n",
       "2                              295.00                   1     0.959319   \n",
       "3                              293.00                   1     0.960924   \n",
       "4                              294.50                   2     0.988238   \n",
       "\n",
       "   solar_elevation  surface_flag                   geometry        date  \n",
       "0        43.149551             1  POINT (-6.93772 40.35023)  2020/10/08  \n",
       "1        43.149296             1  POINT (-6.93719 40.35054)  2020/10/08  \n",
       "2        43.149036             1  POINT (-6.93666 40.35085)  2020/10/08  \n",
       "3        43.148777             1  POINT (-6.93612 40.35116)  2020/10/08  \n",
       "4        43.148518             1  POINT (-6.93559 40.35147)  2020/10/08  \n",
       "\n",
       "[5 rows x 727 columns]"
      ]
     },
     "execution_count": 26,
     "metadata": {},
     "output_type": "execute_result"
    }
   ],
   "source": [
    "example_df = dfs[2]\n",
    "\n",
    "example_df.head()"
   ]
  },
  {
   "cell_type": "markdown",
   "metadata": {},
   "source": [
    "We have successfully downloaded and processed GEDI orbit(s)! The output can now be processed for the user's research purposes."
   ]
  },
  {
   "cell_type": "markdown",
   "metadata": {},
   "source": [
    "# Using GEDIPipeline\n",
    "\n",
    "Using each module separately is useful for specific applications (e.g. finding only the available orbits on ROI), however, running this entire process by creating all of the 3 classes' instances can be time-consuming.\n",
    "The entire process described in this notebook can be automated using a single class, which is the GEDIPipeline, with a few improvements:\n",
    "\n",
    "- The Pipeline automatically deletes the original downloaded file after subsetting it, saving disk space.\n",
    "- More improvements WIP\n",
    "\n",
    "For this Pipeline, we specify all of the previously described arguments for each class, in one instance creation."
   ]
  },
  {
   "cell_type": "code",
   "execution_count": 4,
   "metadata": {},
   "outputs": [],
   "source": [
    "# Import\n",
    "\n",
    "from pipeline.pipeline import GEDIPipeline"
   ]
  },
  {
   "cell_type": "code",
   "execution_count": 5,
   "metadata": {},
   "outputs": [
    {
     "name": "stdout",
     "output_type": "stream",
     "text": [
      "Help on class GEDIPipeline in module pipeline.pipeline:\n",
      "\n",
      "class GEDIPipeline(builtins.object)\n",
      " |  GEDIPipeline(out_directory, product, version, date_start, date_end, roi, sds, beams, persist_login=False)\n",
      " |\n",
      " |  The GEDIPipeline :class: performs all operations in selecting, downloading and subsetting GEDI Data for a given region of interest\n",
      " |  Args:\n",
      " |      out\n",
      " |\n",
      " |  Methods defined here:\n",
      " |\n",
      " |  __init__(self, out_directory, product, version, date_start, date_end, roi, sds, beams, persist_login=False)\n",
      " |      Initialize self.  See help(type(self)) for accurate signature.\n",
      " |\n",
      " |  run_pipeline(self)\n",
      " |\n",
      " |  ----------------------------------------------------------------------\n",
      " |  Data descriptors defined here:\n",
      " |\n",
      " |  __dict__\n",
      " |      dictionary for instance variables\n",
      " |\n",
      " |  __weakref__\n",
      " |      list of weak references to the object\n",
      "\n"
     ]
    }
   ],
   "source": [
    "help(GEDIPipeline)"
   ]
  },
  {
   "cell_type": "code",
   "execution_count": 6,
   "metadata": {},
   "outputs": [
    {
     "name": "stdout",
     "output_type": "stream",
     "text": [
      "Logging in EarthData...\n"
     ]
    }
   ],
   "source": [
    "# Pipeline instance\n",
    "\n",
    "pipeline = GEDIPipeline(\n",
    "    out_directory = example_path,\n",
    "    product = 'GEDI02_A',\n",
    "    version = '002',\n",
    "    date_start = date_start,\n",
    "    date_end = date_end,\n",
    "    roi = roi,\n",
    "    beams = None,\n",
    "    sds = None,\n",
    "    persist_login = False\n",
    ")"
   ]
  },
  {
   "cell_type": "markdown",
   "metadata": {},
   "source": [
    "To run the entire pipeline, we simply call `run_pipeline()` on our pipeline instance."
   ]
  },
  {
   "cell_type": "code",
   "execution_count": 8,
   "metadata": {},
   "outputs": [
    {
     "name": "stdout",
     "output_type": "stream",
     "text": [
      "[Finder] Found 31 granules over bbox [-6.9382 40.321162 -6.876083 40.356011]\n",
      "[Finder] Between dates (2020-04-30 00:00:00) and (2020-10-31 00:00:00) exist 3 granules over bbox [-6.9382 40.321162 -6.876083 40.356011]\n",
      "[Finder] Estimated download size for select granules : 4.87 GB\n",
      "[Finder] Saved links to file ./example_usage/GEDI02_A_GranuleList_20241118130908.txt\n",
      "Skipping granule from link ('https://data.lpdaac.earthdatacloud.nasa.gov/lp-prod-protected/GEDI02_A.002/GEDI02_A_2020203182648_O09106_02_T00028_02_003_01_V002/GEDI02_A_2020203182648_O09106_02_T00028_02_003_01_V002.h5', '1681.25') as it is already subsetted.\n",
      "Skipping granule from link ('https://data.lpdaac.earthdatacloud.nasa.gov/lp-prod-protected/GEDI02_A.002/GEDI02_A_2020278125206_O10265_02_T08566_02_003_02_V002/GEDI02_A_2020278125206_O10265_02_T08566_02_003_02_V002.h5', '1592.68') as it is already subsetted.\n",
      "Skipping granule from link ('https://data.lpdaac.earthdatacloud.nasa.gov/lp-prod-protected/GEDI02_A.002/GEDI02_A_2020282111915_O10326_02_T07143_02_003_02_V002/GEDI02_A_2020282111915_O10326_02_T07143_02_003_02_V002.h5', '1600.65') as it is already subsetted.\n"
     ]
    },
    {
     "data": {
      "text/plain": [
       "[('https://data.lpdaac.earthdatacloud.nasa.gov/lp-prod-protected/GEDI02_A.002/GEDI02_A_2020203182648_O09106_02_T00028_02_003_01_V002/GEDI02_A_2020203182648_O09106_02_T00028_02_003_01_V002.h5',\n",
       "  '1681.25'),\n",
       " ('https://data.lpdaac.earthdatacloud.nasa.gov/lp-prod-protected/GEDI02_A.002/GEDI02_A_2020278125206_O10265_02_T08566_02_003_02_V002/GEDI02_A_2020278125206_O10265_02_T08566_02_003_02_V002.h5',\n",
       "  '1592.68'),\n",
       " ('https://data.lpdaac.earthdatacloud.nasa.gov/lp-prod-protected/GEDI02_A.002/GEDI02_A_2020282111915_O10326_02_T07143_02_003_02_V002/GEDI02_A_2020282111915_O10326_02_T07143_02_003_02_V002.h5',\n",
       "  '1600.65')]"
      ]
     },
     "execution_count": 8,
     "metadata": {},
     "output_type": "execute_result"
    }
   ],
   "source": [
    "pipeline.run_pipeline()"
   ]
  },
  {
   "cell_type": "markdown",
   "metadata": {},
   "source": [
    "---\n",
    "\n",
    "This notebook showed the basic usage of this Pipeline, however, each module can be used separately for specific purposes.\n",
    "If you have any questions, open an issue on the GitHub repository or contact us at: leonel.corado@uevora.pt"
   ]
  },
  {
   "cell_type": "code",
   "execution_count": null,
   "metadata": {},
   "outputs": [],
   "source": []
  }
 ],
 "metadata": {
  "kernelspec": {
   "display_name": "Python 3 (ipykernel)",
   "language": "python",
   "name": "python3"
  },
  "language_info": {
   "codemirror_mode": {
    "name": "ipython",
    "version": 3
   },
   "file_extension": ".py",
   "mimetype": "text/x-python",
   "name": "python",
   "nbconvert_exporter": "python",
   "pygments_lexer": "ipython3",
   "version": "3.12.1"
  }
 },
 "nbformat": 4,
 "nbformat_minor": 4
}
